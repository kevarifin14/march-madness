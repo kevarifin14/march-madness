{
 "cells": [
  {
   "cell_type": "code",
   "execution_count": 1,
   "metadata": {
    "collapsed": false
   },
   "outputs": [],
   "source": [
    "import numpy as np\n",
    "import pandas as pd\n",
    "from tempfile import TemporaryFile\n",
    "from sklearn import linear_model"
   ]
  },
  {
   "cell_type": "code",
   "execution_count": 2,
   "metadata": {
    "collapsed": false
   },
   "outputs": [],
   "source": [
    "teams = pd.DataFrame.from_csv(\"Teams.csv\").to_dict()[\"Team_Name\"]\n",
    "tourneyResDf = pd.DataFrame.from_csv(\"TourneyDetailedResults.csv\")\n",
    "regSeasonResDf = pd.DataFrame.from_csv(\"RegularSeasonDetailedResults.csv\")\n",
    "STAT_COLUMNS = [\"score\", \"fgm\", \"fga\", \"fgm3\", \"fga3\", \"ftm\", \"fta\", \"or\", \"dr\", \"ast\", \"to\", \"stl\", \"blk\", \"pf\"]\n",
    "WINNER_COLUMNS = list(map(lambda c: \"W\" + c, STAT_COLUMNS))\n",
    "LOSER_COLUMNS = list(map(lambda c: \"L\" + c, STAT_COLUMNS))"
   ]
  },
  {
   "cell_type": "code",
   "execution_count": 32,
   "metadata": {
    "collapsed": false
   },
   "outputs": [],
   "source": [
    "def offensiveRatings(data):\n",
    "    wOffRating = 100 * data.Wscore / (0.5 * \\\n",
    "    ((data.Wfga + 0.4 * data.Wfta - 1.07 * (data.Wor / (data.Wor + data.Ldr)) * \\\n",
    "    (data.Wfga - data.Wfgm) + data.Wto) + (data.Lfga + 0.4 * data.Lfta - 1.07 * \\\n",
    "    (data.Lor / (data.Lor + data.Wdr)) * (data.Lfga - data.Lfgm) + data.Lto)))   \n",
    "    lOffRating = 100 * data.Lscore / (0.5 * \\\n",
    "    ((data.Lfga + 0.4 * data.Lfta - 1.07 * (data.Lor / (data.Lor + data.Wdr)) * \\\n",
    "    (data.Lfga - data.Lfgm) + data.Lto) + (data.Wfga + 0.4 * data.Wfta - 1.07 * \\\n",
    "    (data.Wor / (data.Wor + data.Ldr)) * (data.Wfga - data.Wfgm) + data.Wto)))   \n",
    "    return wOffRating, lOffRating"
   ]
  },
  {
   "cell_type": "code",
   "execution_count": 33,
   "metadata": {
    "collapsed": false
   },
   "outputs": [
    {
     "data": {
      "text/plain": [
       "(93.570680647107281, 85.314444119421353)"
      ]
     },
     "execution_count": 33,
     "metadata": {},
     "output_type": "execute_result"
    }
   ],
   "source": [
    "offensiveRatings(regSeasonResDf.iloc[0])"
   ]
  },
  {
   "cell_type": "code",
   "execution_count": 9,
   "metadata": {
    "collapsed": false
   },
   "outputs": [
    {
     "data": {
      "text/plain": [
       "Daynum      10\n",
       "Wteam     1104\n",
       "Wscore      68\n",
       "Lteam     1328\n",
       "Lscore      62\n",
       "Wloc         N\n",
       "Numot        0\n",
       "Wfgm        27\n",
       "Wfga        58\n",
       "Wfgm3        3\n",
       "Wfga3       14\n",
       "Wftm        11\n",
       "Wfta        18\n",
       "Wor         14\n",
       "Wdr         24\n",
       "Wast        13\n",
       "Wto         23\n",
       "Wstl         7\n",
       "Wblk         1\n",
       "Wpf         22\n",
       "Lfgm        22\n",
       "Lfga        53\n",
       "Lfgm3        2\n",
       "Lfga3       10\n",
       "Lftm        16\n",
       "Lfta        22\n",
       "Lor         10\n",
       "Ldr         22\n",
       "Last         8\n",
       "Lto         18\n",
       "Lstl         9\n",
       "Lblk         2\n",
       "Lpf         20\n",
       "Name: 2003-01-01 00:00:00, dtype: object"
      ]
     },
     "execution_count": 9,
     "metadata": {},
     "output_type": "execute_result"
    }
   ],
   "source": [
    "regSeasonResDf.iloc[0]"
   ]
  },
  {
   "cell_type": "code",
   "execution_count": 4,
   "metadata": {
    "collapsed": true
   },
   "outputs": [],
   "source": []
  },
  {
   "cell_type": "code",
   "execution_count": 6,
   "metadata": {
    "collapsed": false
   },
   "outputs": [
    {
     "data": {
      "text/plain": [
       "datetime.datetime(2017, 3, 9, 20, 15, 54, 185950)"
      ]
     },
     "execution_count": 6,
     "metadata": {},
     "output_type": "execute_result"
    }
   ],
   "source": [
    "datetime.now()"
   ]
  },
  {
   "cell_type": "code",
   "execution_count": null,
   "metadata": {
    "collapsed": true
   },
   "outputs": [],
   "source": []
  }
 ],
 "metadata": {
  "anaconda-cloud": {},
  "kernelspec": {
   "display_name": "Python [default]",
   "language": "python",
   "name": "python3"
  },
  "language_info": {
   "codemirror_mode": {
    "name": "ipython",
    "version": 3
   },
   "file_extension": ".py",
   "mimetype": "text/x-python",
   "name": "python",
   "nbconvert_exporter": "python",
   "pygments_lexer": "ipython3",
   "version": "3.5.2"
  }
 },
 "nbformat": 4,
 "nbformat_minor": 1
}
